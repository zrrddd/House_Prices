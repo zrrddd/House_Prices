{
 "cells": [
  {
   "cell_type": "code",
   "execution_count": 42,
   "metadata": {},
   "outputs": [],
   "source": [
    "import numpy as np\n",
    "import pandas as pd\n",
    "from sklearn import ensemble\n",
    "from sklearn.metrics import mean_squared_error\n",
    "\n",
    "\n",
    "# Ignore warnings\n",
    "import warnings\n",
    "warnings.filterwarnings('ignore')"
   ]
  },
  {
   "cell_type": "code",
   "execution_count": 73,
   "metadata": {},
   "outputs": [],
   "source": [
    "train = pd.read_csv('train.csv')\n",
    "train.drop('Id', axis = 1, inplace = True)"
   ]
  },
  {
   "cell_type": "code",
   "execution_count": 74,
   "metadata": {},
   "outputs": [],
   "source": [
    "X = train.drop('SalePrice', axis = 1)\n",
    "y = train['SalePrice']"
   ]
  },
  {
   "cell_type": "markdown",
   "metadata": {},
   "source": [
    "- FullBath不行"
   ]
  },
  {
   "cell_type": "code",
   "execution_count": 75,
   "metadata": {},
   "outputs": [],
   "source": [
    "def prepare_X(X, y):\n",
    "    outliers = [1298]\n",
    "    X.drop(outliers, inplace = True)\n",
    "    y = y.drop(outliers)\n",
    "    cols = [\n",
    "        'OverallQual',\n",
    "        'ExterQual',\n",
    "        'CentralAir',\n",
    "        '1stFlrSF',\n",
    "        'GrLivArea',\n",
    "        'BsmtFullBath',\n",
    "        'KitchenQual',\n",
    "        'TotRmsAbvGrd',\n",
    "        'Fireplaces',\n",
    "        'PavedDrive',\n",
    "        'TotalBsmtSF',\n",
    "        'GarageArea',\n",
    "        'YearRemodAdd'\n",
    "\n",
    "    ]\n",
    "    X_prepared = X[cols]\n",
    "    # ExterQual\n",
    "    X_prepared['ExterQual'] = X_prepared['ExterQual'].replace({'Ex':4, 'Gd': 3, 'TA': 2, 'Fa': 1})\n",
    "    # CentralAir\n",
    "    X_prepared['CentralAir'] = X_prepared['CentralAir'].replace({'Y':1,'N': 0})\n",
    "    # KitchenQual\n",
    "    X_prepared['KitchenQual'] = X_prepared['KitchenQual'].replace({'Ex':4, 'Gd': 3, 'TA': 2, 'Fa': 1})\n",
    "    # PavedDrive\n",
    "    X_prepared['PavedDrive'] = X_prepared['PavedDrive'].replace({'Y':2, 'P':1, 'N': 0})\n",
    "\n",
    "\n",
    "    return X_prepared, y"
   ]
  },
  {
   "cell_type": "code",
   "execution_count": 76,
   "metadata": {},
   "outputs": [
    {
     "data": {
      "text/html": [
       "<div>\n",
       "<style scoped>\n",
       "    .dataframe tbody tr th:only-of-type {\n",
       "        vertical-align: middle;\n",
       "    }\n",
       "\n",
       "    .dataframe tbody tr th {\n",
       "        vertical-align: top;\n",
       "    }\n",
       "\n",
       "    .dataframe thead th {\n",
       "        text-align: right;\n",
       "    }\n",
       "</style>\n",
       "<table border=\"1\" class=\"dataframe\">\n",
       "  <thead>\n",
       "    <tr style=\"text-align: right;\">\n",
       "      <th></th>\n",
       "      <th>OverallQual</th>\n",
       "      <th>ExterQual</th>\n",
       "      <th>CentralAir</th>\n",
       "      <th>1stFlrSF</th>\n",
       "      <th>GrLivArea</th>\n",
       "      <th>BsmtFullBath</th>\n",
       "      <th>KitchenQual</th>\n",
       "      <th>TotRmsAbvGrd</th>\n",
       "      <th>Fireplaces</th>\n",
       "      <th>PavedDrive</th>\n",
       "      <th>TotalBsmtSF</th>\n",
       "      <th>GarageArea</th>\n",
       "      <th>YearRemodAdd</th>\n",
       "    </tr>\n",
       "  </thead>\n",
       "  <tbody>\n",
       "    <tr>\n",
       "      <th>0</th>\n",
       "      <td>7</td>\n",
       "      <td>3</td>\n",
       "      <td>1</td>\n",
       "      <td>856</td>\n",
       "      <td>1710</td>\n",
       "      <td>1</td>\n",
       "      <td>3</td>\n",
       "      <td>8</td>\n",
       "      <td>0</td>\n",
       "      <td>2</td>\n",
       "      <td>856</td>\n",
       "      <td>548</td>\n",
       "      <td>2003</td>\n",
       "    </tr>\n",
       "    <tr>\n",
       "      <th>1</th>\n",
       "      <td>6</td>\n",
       "      <td>2</td>\n",
       "      <td>1</td>\n",
       "      <td>1262</td>\n",
       "      <td>1262</td>\n",
       "      <td>0</td>\n",
       "      <td>2</td>\n",
       "      <td>6</td>\n",
       "      <td>1</td>\n",
       "      <td>2</td>\n",
       "      <td>1262</td>\n",
       "      <td>460</td>\n",
       "      <td>1976</td>\n",
       "    </tr>\n",
       "    <tr>\n",
       "      <th>2</th>\n",
       "      <td>7</td>\n",
       "      <td>3</td>\n",
       "      <td>1</td>\n",
       "      <td>920</td>\n",
       "      <td>1786</td>\n",
       "      <td>1</td>\n",
       "      <td>3</td>\n",
       "      <td>6</td>\n",
       "      <td>1</td>\n",
       "      <td>2</td>\n",
       "      <td>920</td>\n",
       "      <td>608</td>\n",
       "      <td>2002</td>\n",
       "    </tr>\n",
       "    <tr>\n",
       "      <th>3</th>\n",
       "      <td>7</td>\n",
       "      <td>2</td>\n",
       "      <td>1</td>\n",
       "      <td>961</td>\n",
       "      <td>1717</td>\n",
       "      <td>1</td>\n",
       "      <td>3</td>\n",
       "      <td>7</td>\n",
       "      <td>1</td>\n",
       "      <td>2</td>\n",
       "      <td>756</td>\n",
       "      <td>642</td>\n",
       "      <td>1970</td>\n",
       "    </tr>\n",
       "    <tr>\n",
       "      <th>4</th>\n",
       "      <td>8</td>\n",
       "      <td>3</td>\n",
       "      <td>1</td>\n",
       "      <td>1145</td>\n",
       "      <td>2198</td>\n",
       "      <td>1</td>\n",
       "      <td>3</td>\n",
       "      <td>9</td>\n",
       "      <td>1</td>\n",
       "      <td>2</td>\n",
       "      <td>1145</td>\n",
       "      <td>836</td>\n",
       "      <td>2000</td>\n",
       "    </tr>\n",
       "    <tr>\n",
       "      <th>...</th>\n",
       "      <td>...</td>\n",
       "      <td>...</td>\n",
       "      <td>...</td>\n",
       "      <td>...</td>\n",
       "      <td>...</td>\n",
       "      <td>...</td>\n",
       "      <td>...</td>\n",
       "      <td>...</td>\n",
       "      <td>...</td>\n",
       "      <td>...</td>\n",
       "      <td>...</td>\n",
       "      <td>...</td>\n",
       "      <td>...</td>\n",
       "    </tr>\n",
       "    <tr>\n",
       "      <th>1455</th>\n",
       "      <td>6</td>\n",
       "      <td>2</td>\n",
       "      <td>1</td>\n",
       "      <td>953</td>\n",
       "      <td>1647</td>\n",
       "      <td>0</td>\n",
       "      <td>2</td>\n",
       "      <td>7</td>\n",
       "      <td>1</td>\n",
       "      <td>2</td>\n",
       "      <td>953</td>\n",
       "      <td>460</td>\n",
       "      <td>2000</td>\n",
       "    </tr>\n",
       "    <tr>\n",
       "      <th>1456</th>\n",
       "      <td>6</td>\n",
       "      <td>2</td>\n",
       "      <td>1</td>\n",
       "      <td>2073</td>\n",
       "      <td>2073</td>\n",
       "      <td>1</td>\n",
       "      <td>2</td>\n",
       "      <td>7</td>\n",
       "      <td>2</td>\n",
       "      <td>2</td>\n",
       "      <td>1542</td>\n",
       "      <td>500</td>\n",
       "      <td>1988</td>\n",
       "    </tr>\n",
       "    <tr>\n",
       "      <th>1457</th>\n",
       "      <td>7</td>\n",
       "      <td>4</td>\n",
       "      <td>1</td>\n",
       "      <td>1188</td>\n",
       "      <td>2340</td>\n",
       "      <td>0</td>\n",
       "      <td>3</td>\n",
       "      <td>9</td>\n",
       "      <td>2</td>\n",
       "      <td>2</td>\n",
       "      <td>1152</td>\n",
       "      <td>252</td>\n",
       "      <td>2006</td>\n",
       "    </tr>\n",
       "    <tr>\n",
       "      <th>1458</th>\n",
       "      <td>5</td>\n",
       "      <td>2</td>\n",
       "      <td>1</td>\n",
       "      <td>1078</td>\n",
       "      <td>1078</td>\n",
       "      <td>1</td>\n",
       "      <td>3</td>\n",
       "      <td>5</td>\n",
       "      <td>0</td>\n",
       "      <td>2</td>\n",
       "      <td>1078</td>\n",
       "      <td>240</td>\n",
       "      <td>1996</td>\n",
       "    </tr>\n",
       "    <tr>\n",
       "      <th>1459</th>\n",
       "      <td>5</td>\n",
       "      <td>3</td>\n",
       "      <td>1</td>\n",
       "      <td>1256</td>\n",
       "      <td>1256</td>\n",
       "      <td>1</td>\n",
       "      <td>2</td>\n",
       "      <td>6</td>\n",
       "      <td>0</td>\n",
       "      <td>2</td>\n",
       "      <td>1256</td>\n",
       "      <td>276</td>\n",
       "      <td>1965</td>\n",
       "    </tr>\n",
       "  </tbody>\n",
       "</table>\n",
       "<p>1459 rows × 13 columns</p>\n",
       "</div>"
      ],
      "text/plain": [
       "      OverallQual  ExterQual  CentralAir  1stFlrSF  GrLivArea  BsmtFullBath  \\\n",
       "0               7          3           1       856       1710             1   \n",
       "1               6          2           1      1262       1262             0   \n",
       "2               7          3           1       920       1786             1   \n",
       "3               7          2           1       961       1717             1   \n",
       "4               8          3           1      1145       2198             1   \n",
       "...           ...        ...         ...       ...        ...           ...   \n",
       "1455            6          2           1       953       1647             0   \n",
       "1456            6          2           1      2073       2073             1   \n",
       "1457            7          4           1      1188       2340             0   \n",
       "1458            5          2           1      1078       1078             1   \n",
       "1459            5          3           1      1256       1256             1   \n",
       "\n",
       "      KitchenQual  TotRmsAbvGrd  Fireplaces  PavedDrive  TotalBsmtSF  \\\n",
       "0               3             8           0           2          856   \n",
       "1               2             6           1           2         1262   \n",
       "2               3             6           1           2          920   \n",
       "3               3             7           1           2          756   \n",
       "4               3             9           1           2         1145   \n",
       "...           ...           ...         ...         ...          ...   \n",
       "1455            2             7           1           2          953   \n",
       "1456            2             7           2           2         1542   \n",
       "1457            3             9           2           2         1152   \n",
       "1458            3             5           0           2         1078   \n",
       "1459            2             6           0           2         1256   \n",
       "\n",
       "      GarageArea  YearRemodAdd  \n",
       "0            548          2003  \n",
       "1            460          1976  \n",
       "2            608          2002  \n",
       "3            642          1970  \n",
       "4            836          2000  \n",
       "...          ...           ...  \n",
       "1455         460          2000  \n",
       "1456         500          1988  \n",
       "1457         252          2006  \n",
       "1458         240          1996  \n",
       "1459         276          1965  \n",
       "\n",
       "[1459 rows x 13 columns]"
      ]
     },
     "execution_count": 76,
     "metadata": {},
     "output_type": "execute_result"
    }
   ],
   "source": [
    "X_prepared, y_prepared = prepare_X(X, y)\n",
    "X_prepared"
   ]
  },
  {
   "cell_type": "code",
   "execution_count": 77,
   "metadata": {},
   "outputs": [],
   "source": [
    "rf_reg = ensemble.RandomForestRegressor()"
   ]
  },
  {
   "cell_type": "code",
   "execution_count": 78,
   "metadata": {},
   "outputs": [
    {
     "data": {
      "text/plain": [
       "RandomForestRegressor()"
      ]
     },
     "execution_count": 78,
     "metadata": {},
     "output_type": "execute_result"
    }
   ],
   "source": [
    "rf_reg.fit(X_prepared, y_prepared)"
   ]
  },
  {
   "cell_type": "code",
   "execution_count": 79,
   "metadata": {},
   "outputs": [
    {
     "data": {
      "text/plain": [
       "0.9810304373108933"
      ]
     },
     "execution_count": 79,
     "metadata": {},
     "output_type": "execute_result"
    }
   ],
   "source": [
    "rf_reg.score(X_prepared, y_prepared)"
   ]
  },
  {
   "cell_type": "code",
   "execution_count": 80,
   "metadata": {},
   "outputs": [
    {
     "data": {
      "text/plain": [
       "119713326.04303497"
      ]
     },
     "execution_count": 80,
     "metadata": {},
     "output_type": "execute_result"
    }
   ],
   "source": [
    "mean_squared_error(rf_reg.predict(X_prepared), y_prepared)"
   ]
  },
  {
   "cell_type": "markdown",
   "metadata": {},
   "source": [
    "# Prediction"
   ]
  },
  {
   "cell_type": "code",
   "execution_count": 103,
   "metadata": {},
   "outputs": [],
   "source": [
    "test = pd.read_csv('test.csv')"
   ]
  },
  {
   "cell_type": "code",
   "execution_count": 109,
   "metadata": {},
   "outputs": [],
   "source": [
    "def prepare_test(X):\n",
    "    cols = [\n",
    "        'OverallQual',\n",
    "        'ExterQual',\n",
    "        'CentralAir',\n",
    "        '1stFlrSF',\n",
    "        'GrLivArea',\n",
    "        'BsmtFullBath',\n",
    "        'KitchenQual',\n",
    "        'TotRmsAbvGrd',\n",
    "        'Fireplaces',\n",
    "        'PavedDrive',\n",
    "        'TotalBsmtSF',\n",
    "        'GarageArea',\n",
    "        'YearRemodAdd'\n",
    "\n",
    "    ]\n",
    "    #处理一下missingness\n",
    "    X['BsmtFullBath'] = X['BsmtFullBath'].fillna(X['BsmtFullBath'].median())\n",
    "    X['KitchenQual'] = X['KitchenQual'].fillna((X['KitchenQual'].mode())[0])\n",
    "    X['TotalBsmtSF'] = X['TotalBsmtSF'].fillna(X['TotalBsmtSF'].median())\n",
    "    X['GarageArea'] = X['GarageArea'].fillna(X['GarageArea'].median())\n",
    "    \n",
    "    X_prepared = X[cols]\n",
    "    # ExterQual\n",
    "    X_prepared['ExterQual'] = X_prepared['ExterQual'].replace({'Ex':4, 'Gd': 3, 'TA': 2, 'Fa': 1})\n",
    "    # CentralAir\n",
    "    X_prepared['CentralAir'] = X_prepared['CentralAir'].replace({'Y':1,'N': 0})\n",
    "    # KitchenQual\n",
    "    X_prepared['KitchenQual'] = X_prepared['KitchenQual'].replace({'Ex':4, 'Gd': 3, 'TA': 2, 'Fa': 1})\n",
    "    # PavedDrive\n",
    "    X_prepared['PavedDrive'] = X_prepared['PavedDrive'].replace({'Y':2, 'P':1, 'N': 0})\n",
    "    \n",
    "\n",
    "    return X_prepared"
   ]
  },
  {
   "cell_type": "code",
   "execution_count": 111,
   "metadata": {},
   "outputs": [],
   "source": [
    "test_prepared = prepare_test(test)"
   ]
  },
  {
   "cell_type": "code",
   "execution_count": 114,
   "metadata": {},
   "outputs": [],
   "source": [
    "predictions = rf_reg.predict(test_prepared)\n",
    "result = pd.DataFrame({'Id': test['Id'], 'SalePrice': predictions})"
   ]
  },
  {
   "cell_type": "code",
   "execution_count": 115,
   "metadata": {},
   "outputs": [
    {
     "data": {
      "text/html": [
       "<div>\n",
       "<style scoped>\n",
       "    .dataframe tbody tr th:only-of-type {\n",
       "        vertical-align: middle;\n",
       "    }\n",
       "\n",
       "    .dataframe tbody tr th {\n",
       "        vertical-align: top;\n",
       "    }\n",
       "\n",
       "    .dataframe thead th {\n",
       "        text-align: right;\n",
       "    }\n",
       "</style>\n",
       "<table border=\"1\" class=\"dataframe\">\n",
       "  <thead>\n",
       "    <tr style=\"text-align: right;\">\n",
       "      <th></th>\n",
       "      <th>Id</th>\n",
       "      <th>SalePrice</th>\n",
       "    </tr>\n",
       "  </thead>\n",
       "  <tbody>\n",
       "    <tr>\n",
       "      <th>0</th>\n",
       "      <td>1461</td>\n",
       "      <td>127023.43</td>\n",
       "    </tr>\n",
       "    <tr>\n",
       "      <th>1</th>\n",
       "      <td>1462</td>\n",
       "      <td>146317.34</td>\n",
       "    </tr>\n",
       "    <tr>\n",
       "      <th>2</th>\n",
       "      <td>1463</td>\n",
       "      <td>164277.94</td>\n",
       "    </tr>\n",
       "    <tr>\n",
       "      <th>3</th>\n",
       "      <td>1464</td>\n",
       "      <td>184245.00</td>\n",
       "    </tr>\n",
       "    <tr>\n",
       "      <th>4</th>\n",
       "      <td>1465</td>\n",
       "      <td>206351.37</td>\n",
       "    </tr>\n",
       "  </tbody>\n",
       "</table>\n",
       "</div>"
      ],
      "text/plain": [
       "     Id  SalePrice\n",
       "0  1461  127023.43\n",
       "1  1462  146317.34\n",
       "2  1463  164277.94\n",
       "3  1464  184245.00\n",
       "4  1465  206351.37"
      ]
     },
     "execution_count": 115,
     "metadata": {},
     "output_type": "execute_result"
    }
   ],
   "source": [
    "result.head()"
   ]
  },
  {
   "cell_type": "code",
   "execution_count": 116,
   "metadata": {},
   "outputs": [],
   "source": [
    "result.to_csv('result.csv',index = False)"
   ]
  },
  {
   "cell_type": "code",
   "execution_count": null,
   "metadata": {},
   "outputs": [],
   "source": []
  }
 ],
 "metadata": {
  "kernelspec": {
   "display_name": "Python 3",
   "language": "python",
   "name": "python3"
  },
  "language_info": {
   "codemirror_mode": {
    "name": "ipython",
    "version": 3
   },
   "file_extension": ".py",
   "mimetype": "text/x-python",
   "name": "python",
   "nbconvert_exporter": "python",
   "pygments_lexer": "ipython3",
   "version": "3.8.5"
  }
 },
 "nbformat": 4,
 "nbformat_minor": 4
}
