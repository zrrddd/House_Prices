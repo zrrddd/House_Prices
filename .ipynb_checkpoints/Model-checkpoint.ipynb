{
 "cells": [
  {
   "cell_type": "code",
   "execution_count": 283,
   "metadata": {},
   "outputs": [],
   "source": [
    "import numpy as np\n",
    "import pandas as pd\n",
    "import seaborn as sns\n",
    "\n",
    "from sklearn import ensemble\n",
    "from sklearn import feature_selection\n",
    "from sklearn import preprocessing\n",
    "from sklearn.metrics import mean_squared_error, make_scorer\n",
    "from sklearn.model_selection import GridSearchCV, cross_val_score\n",
    "\n",
    "import xgboost\n",
    "\n",
    "from sklearn.decomposition import PCA\n",
    "\n",
    "# Ignore warnings\n",
    "import warnings\n",
    "warnings.filterwarnings('ignore')"
   ]
  },
  {
   "cell_type": "code",
   "execution_count": 284,
   "metadata": {},
   "outputs": [],
   "source": [
    "train = pd.read_csv('train.csv')\n",
    "train.drop('Id', axis = 1, inplace = True)\n",
    "\n",
    "X = train.drop('SalePrice', axis = 1)\n",
    "y = train['SalePrice']\n"
   ]
  },
  {
   "cell_type": "code",
   "execution_count": 285,
   "metadata": {},
   "outputs": [],
   "source": [
    "def prepare_X(X, y):\n",
    "    #########################去掉Outlier###############################\n",
    "    \n",
    "    outliers = [1298, 495, 249, 313, 335, 706, 185]\n",
    "    X.drop(outliers, inplace = True)\n",
    "    y = y.drop(outliers)\n",
    "    \n",
    "    #########################选择合适的features#########################\n",
    "    \n",
    "    cols = [\n",
    "             'OverallQual','ExterQual','CentralAir','1stFlrSF','GrLivArea','BsmtFullBath','BsmtHalfBath',\n",
    "             'KitchenQual','TotRmsAbvGrd','Fireplaces','PavedDrive','TotalBsmtSF','GarageArea','YearRemodAdd',\n",
    "             'YearBuilt','BsmtFinSF1','2ndFlrSF','FullBath','HalfBath','BedroomAbvGr','KitchenAbvGr', 'LotArea',\n",
    "             'PoolArea','MSZoning','Neighborhood','Exterior1st','Exterior2nd','Foundation','SaleType', 'WoodDeckSF',\n",
    "             'OpenPorchSF','LotFrontage','MSSubClass', 'LotShape','LandContour','LandSlope','Condition1','BldgType',\n",
    "             'OverallCond','RoofStyle', 'ExterCond', 'BsmtQual','BsmtCond', 'BsmtFinSF2', 'BsmtUnfSF','HeatingQC',\n",
    "             'Electrical', 'LowQualFinSF', 'Functional','GarageType', 'GarageFinish','GarageCond'\n",
    "    ]\n",
    "    X_prepared = X[cols] \n",
    "    \n",
    "    #########################填补Missingness###############################\n",
    "    X_prepared['BsmtFinSF2'].fillna(0, inplace = True)\n",
    "    \n",
    "    num_col = ['LotFrontage', 'MasVnrArea']\n",
    "    \n",
    "    for num in num_col:\n",
    "        X_prepared[num] = X.groupby(['Neighborhood'])[num].apply(lambda x: x.fillna(x.median()))\n",
    "    \n",
    "    cat_col = ['GarageType', 'GarageFinish', 'GarageQual', 'GarageCond']\n",
    "    \n",
    "    for cat in cat_col:\n",
    "        X_prepared[cat] = X.groupby(['Neighborhood'])[cat].apply(lambda x:x.fillna(x.value_counts().index[0]))\n",
    "    \n",
    "    X_prepared['BsmtQual'] = X_prepared['BsmtQual'].fillna('No_Basement')\n",
    "    X_prepared['BsmtCond'] = X_prepared['BsmtCond'].fillna('No_Basement')\n",
    "    \n",
    "    #########################处理一下Column############################\n",
    "    \n",
    "    ########Categorical######\n",
    "    \n",
    "    Qual_dict = {'Ex':3, 'Gd': 2, 'TA': 1, 'Fa': 0}\n",
    "    Qual_dict2 = {'Ex':4, 'Gd': 3, 'TA': 2, 'Fa': 1, 'Po':0}\n",
    "    Qual_dict3 = {'Ex':4, 'Gd': 3, 'TA': 2, 'Fa': 1, 'No_Basement':0}\n",
    "    Qual_dict4 = {'Gd':4, 'TA': 3, 'Fa': 2, 'Po': 1, 'No_Basement':0}\n",
    "    Qual_dict5 = {'Fin':2, 'RFn':1, 'Unf':0}\n",
    "    \n",
    "    # GarageCond\n",
    "    X_prepared['GarageCond'] = X_prepared['GarageCond'].replace(Qual_dict2)\n",
    "    # GarageQual\n",
    "    X_prepared['GarageQual'] = X_prepared['GarageQual'].replace(Qual_dict2)\n",
    "    # GarageFinish\n",
    "    X_prepared['GarageFinish'] = X_prepared['GarageFinish'].replace(Qual_dict5)\n",
    "    # HeatingQC\n",
    "    X_prepared['HeatingQC'] = X_prepared['HeatingQC'].replace(Qual_dict2)\n",
    "    # BsmtCond\n",
    "    X_prepared['BsmtCond'] = X_prepared['BsmtCond'].replace(Qual_dict4)\n",
    "    # BsmtQual\n",
    "    X_prepared['BsmtQual'] = X_prepared['BsmtQual'].replace(Qual_dict3)\n",
    "    # ExterCond\n",
    "    X_prepared['ExterCond'] = X_prepared['ExterCond'].replace(Qual_dict2)\n",
    "    # ExterQual\n",
    "    X_prepared['ExterQual'] = X_prepared['ExterQual'].replace(Qual_dict)\n",
    "    # KitchenQual\n",
    "    X_prepared['KitchenQual'] = X_prepared['KitchenQual'].replace(Qual_dict)\n",
    "    # LandSlope\n",
    "    X_prepared['LandSlope'] = X_prepared['LandSlope'].replace({'Sev':2, 'Mod':1, 'Gtl':0})\n",
    "    # ONE HOT\n",
    "    onehot_col = ['MSZoning', 'Neighborhood','Exterior1st','Exterior2nd','Foundation','CentralAir',\n",
    "                'PavedDrive', 'SaleType','MSSubClass', 'LotShape', 'LandContour','Condition1','BldgType',\n",
    "                'RoofStyle','Electrical', 'Functional','GarageType'\n",
    "                    ]\n",
    "    X_prepared = pd.get_dummies(X_prepared, columns = onehot_col)\n",
    "    \n",
    "    ########Numerical########\n",
    "    \n",
    "    high_skew_col = ['LotArea', 'WoodDeckSF', '1stFlrSF', 'TotalBsmtSF', 'OpenPorchSF', 'LotFrontage', \n",
    "                     'MasVnrArea', 'BsmtFinSF2']\n",
    "    for col in high_skew_col:\n",
    "        X_prepared[col] = np.log1p(X_prepared[col])\n",
    "        \n",
    "    #########################新feature################################\n",
    "    \n",
    "    X['has_2ndsf'] = (X['2ndFlrSF'] != 0).astype(np.int)\n",
    "    X_prepared['Bath'] = X_prepared['FullBath'] + 0.5 * X_prepared['HalfBath']\n",
    "    X_prepared['has_pool'] = (X_prepared['PoolArea'] == 0).astype(np.int)\n",
    "    X_prepared['has_remodel'] = (X_prepared['YearRemodAdd'] != X_prepared['YearBuilt']).astype(np.int)\n",
    "    X_prepared['BsmtBath'] = X_prepared['BsmtFullBath'] + 0.5 * X_prepared['BsmtHalfBath']\n",
    "    X_prepared['Overall'] = X_prepared['OverallCond'] + X_prepared['OverallQual']\n",
    "    X_prepared['has_MasVnr'] = (X_prepared['MasVnrArea'] == 0).astype(np.int)\n",
    "    X_prepared['Exter'] = X_prepared['ExterCond'] + X_prepared['ExterQual']\n",
    "    X_prepared['Bsmt'] = X_prepared['BsmtCond'] + X_prepared['BsmtQual']\n",
    "    X_prepared['has_BsmtFinSF2'] = (X_prepared['BsmtFinSF2'] != 0).astype(np.int)\n",
    "    X_prepared['has_lowqualitysf'] = (X_prepared['LowQualFinSF'] != 0).astype(np.int)\n",
    "    X_prepared['Garage'] = X_prepared['GarageQual'] + X_prepared['GarageCond']\n",
    "    \n",
    "    #########################不要的column扔了############################\n",
    "    to_drop = ['YearBuilt', 'PoolArea', 'LowQualFinSF']\n",
    "    X_prepared.drop(to_drop, axis = 1, inplace = True)\n",
    "    return X_prepared, y\n"
   ]
  },
  {
   "cell_type": "code",
   "execution_count": 286,
   "metadata": {
    "scrolled": false
   },
   "outputs": [
    {
     "data": {
      "text/html": [
       "<div>\n",
       "<style scoped>\n",
       "    .dataframe tbody tr th:only-of-type {\n",
       "        vertical-align: middle;\n",
       "    }\n",
       "\n",
       "    .dataframe tbody tr th {\n",
       "        vertical-align: top;\n",
       "    }\n",
       "\n",
       "    .dataframe thead th {\n",
       "        text-align: right;\n",
       "    }\n",
       "</style>\n",
       "<table border=\"1\" class=\"dataframe\">\n",
       "  <thead>\n",
       "    <tr style=\"text-align: right;\">\n",
       "      <th></th>\n",
       "      <th>OverallQual</th>\n",
       "      <th>ExterQual</th>\n",
       "      <th>1stFlrSF</th>\n",
       "      <th>GrLivArea</th>\n",
       "      <th>BsmtFullBath</th>\n",
       "      <th>BsmtHalfBath</th>\n",
       "      <th>KitchenQual</th>\n",
       "      <th>TotRmsAbvGrd</th>\n",
       "      <th>Fireplaces</th>\n",
       "      <th>TotalBsmtSF</th>\n",
       "      <th>...</th>\n",
       "      <th>has_pool</th>\n",
       "      <th>has_remodel</th>\n",
       "      <th>BsmtBath</th>\n",
       "      <th>Overall</th>\n",
       "      <th>has_MasVnr</th>\n",
       "      <th>Exter</th>\n",
       "      <th>Bsmt</th>\n",
       "      <th>has_BsmtFinSF2</th>\n",
       "      <th>has_lowqualitysf</th>\n",
       "      <th>Garage</th>\n",
       "    </tr>\n",
       "  </thead>\n",
       "  <tbody>\n",
       "    <tr>\n",
       "      <th>0</th>\n",
       "      <td>7</td>\n",
       "      <td>2</td>\n",
       "      <td>6.753438</td>\n",
       "      <td>1710</td>\n",
       "      <td>1</td>\n",
       "      <td>0</td>\n",
       "      <td>2</td>\n",
       "      <td>8</td>\n",
       "      <td>0</td>\n",
       "      <td>6.753438</td>\n",
       "      <td>...</td>\n",
       "      <td>1</td>\n",
       "      <td>0</td>\n",
       "      <td>1.0</td>\n",
       "      <td>12</td>\n",
       "      <td>0</td>\n",
       "      <td>4</td>\n",
       "      <td>6</td>\n",
       "      <td>0</td>\n",
       "      <td>0</td>\n",
       "      <td>4</td>\n",
       "    </tr>\n",
       "    <tr>\n",
       "      <th>1</th>\n",
       "      <td>6</td>\n",
       "      <td>1</td>\n",
       "      <td>7.141245</td>\n",
       "      <td>1262</td>\n",
       "      <td>0</td>\n",
       "      <td>1</td>\n",
       "      <td>1</td>\n",
       "      <td>6</td>\n",
       "      <td>1</td>\n",
       "      <td>7.141245</td>\n",
       "      <td>...</td>\n",
       "      <td>1</td>\n",
       "      <td>0</td>\n",
       "      <td>0.5</td>\n",
       "      <td>14</td>\n",
       "      <td>1</td>\n",
       "      <td>3</td>\n",
       "      <td>6</td>\n",
       "      <td>0</td>\n",
       "      <td>0</td>\n",
       "      <td>4</td>\n",
       "    </tr>\n",
       "    <tr>\n",
       "      <th>2</th>\n",
       "      <td>7</td>\n",
       "      <td>2</td>\n",
       "      <td>6.825460</td>\n",
       "      <td>1786</td>\n",
       "      <td>1</td>\n",
       "      <td>0</td>\n",
       "      <td>2</td>\n",
       "      <td>6</td>\n",
       "      <td>1</td>\n",
       "      <td>6.825460</td>\n",
       "      <td>...</td>\n",
       "      <td>1</td>\n",
       "      <td>1</td>\n",
       "      <td>1.0</td>\n",
       "      <td>12</td>\n",
       "      <td>0</td>\n",
       "      <td>4</td>\n",
       "      <td>6</td>\n",
       "      <td>0</td>\n",
       "      <td>0</td>\n",
       "      <td>4</td>\n",
       "    </tr>\n",
       "    <tr>\n",
       "      <th>3</th>\n",
       "      <td>7</td>\n",
       "      <td>1</td>\n",
       "      <td>6.869014</td>\n",
       "      <td>1717</td>\n",
       "      <td>1</td>\n",
       "      <td>0</td>\n",
       "      <td>2</td>\n",
       "      <td>7</td>\n",
       "      <td>1</td>\n",
       "      <td>6.629363</td>\n",
       "      <td>...</td>\n",
       "      <td>1</td>\n",
       "      <td>1</td>\n",
       "      <td>1.0</td>\n",
       "      <td>12</td>\n",
       "      <td>1</td>\n",
       "      <td>3</td>\n",
       "      <td>6</td>\n",
       "      <td>0</td>\n",
       "      <td>0</td>\n",
       "      <td>4</td>\n",
       "    </tr>\n",
       "    <tr>\n",
       "      <th>4</th>\n",
       "      <td>8</td>\n",
       "      <td>2</td>\n",
       "      <td>7.044033</td>\n",
       "      <td>2198</td>\n",
       "      <td>1</td>\n",
       "      <td>0</td>\n",
       "      <td>2</td>\n",
       "      <td>9</td>\n",
       "      <td>1</td>\n",
       "      <td>7.044033</td>\n",
       "      <td>...</td>\n",
       "      <td>1</td>\n",
       "      <td>0</td>\n",
       "      <td>1.0</td>\n",
       "      <td>13</td>\n",
       "      <td>0</td>\n",
       "      <td>4</td>\n",
       "      <td>6</td>\n",
       "      <td>0</td>\n",
       "      <td>0</td>\n",
       "      <td>4</td>\n",
       "    </tr>\n",
       "  </tbody>\n",
       "</table>\n",
       "<p>5 rows × 187 columns</p>\n",
       "</div>"
      ],
      "text/plain": [
       "   OverallQual  ExterQual  1stFlrSF  GrLivArea  BsmtFullBath  BsmtHalfBath  \\\n",
       "0            7          2  6.753438       1710             1             0   \n",
       "1            6          1  7.141245       1262             0             1   \n",
       "2            7          2  6.825460       1786             1             0   \n",
       "3            7          1  6.869014       1717             1             0   \n",
       "4            8          2  7.044033       2198             1             0   \n",
       "\n",
       "   KitchenQual  TotRmsAbvGrd  Fireplaces  TotalBsmtSF  ...  has_pool  \\\n",
       "0            2             8           0     6.753438  ...         1   \n",
       "1            1             6           1     7.141245  ...         1   \n",
       "2            2             6           1     6.825460  ...         1   \n",
       "3            2             7           1     6.629363  ...         1   \n",
       "4            2             9           1     7.044033  ...         1   \n",
       "\n",
       "   has_remodel  BsmtBath  Overall  has_MasVnr  Exter  Bsmt  has_BsmtFinSF2  \\\n",
       "0            0       1.0       12           0      4     6               0   \n",
       "1            0       0.5       14           1      3     6               0   \n",
       "2            1       1.0       12           0      4     6               0   \n",
       "3            1       1.0       12           1      3     6               0   \n",
       "4            0       1.0       13           0      4     6               0   \n",
       "\n",
       "   has_lowqualitysf  Garage  \n",
       "0                 0       4  \n",
       "1                 0       4  \n",
       "2                 0       4  \n",
       "3                 0       4  \n",
       "4                 0       4  \n",
       "\n",
       "[5 rows x 187 columns]"
      ]
     },
     "execution_count": 286,
     "metadata": {},
     "output_type": "execute_result"
    }
   ],
   "source": [
    "X_prepared, y_prepared = prepare_X(X, y)\n",
    "X_prepared.head()\n"
   ]
  },
  {
   "cell_type": "code",
   "execution_count": 287,
   "metadata": {},
   "outputs": [
    {
     "name": "stdout",
     "output_type": "stream",
     "text": [
      "The number of selected features is: 113\n"
     ]
    }
   ],
   "source": [
    "# Feature Selection\n",
    "def rmse(y_true, y_pred):\n",
    "    return np.sqrt(np.mean((y_true - y_pred) ** 2))\n",
    "def neg_rmse(estimator, X, y):\n",
    "    y_true = y\n",
    "    y_pred = estimator.predict(X)\n",
    "    return (-1) * np.sqrt(np.mean((y_true - y_pred) ** 2))\n",
    "\n",
    "negative_rmse = make_scorer(neg_rmse)\n",
    "\n",
    "estimator = ensemble.GradientBoostingRegressor()\n",
    "selector = feature_selection.RFECV(estimator, cv = 5, n_jobs = -1, scoring = neg_rmse)\n",
    "selector = selector.fit(X_prepared, y_prepared)\n",
    "\n",
    "print(\"The number of selected features is: {}\".format(selector.n_features_))\n",
    "\n",
    "features_keep = X_prepared.columns.values[selector.support_]\n",
    "\n",
    "X_prepared = selector.transform(X_prepared)"
   ]
  },
  {
   "cell_type": "code",
   "execution_count": 288,
   "metadata": {},
   "outputs": [
    {
     "data": {
      "text/plain": [
       "GradientBoostingRegressor()"
      ]
     },
     "execution_count": 288,
     "metadata": {},
     "output_type": "execute_result"
    }
   ],
   "source": [
    "# 随便找一个试试\n",
    "gb_reg = ensemble.GradientBoostingRegressor()\n",
    "gb_reg.fit(X_prepared, y_prepared)"
   ]
  },
  {
   "cell_type": "code",
   "execution_count": 289,
   "metadata": {},
   "outputs": [
    {
     "name": "stdout",
     "output_type": "stream",
     "text": [
      "CV score is: 0.8762622308148931\n",
      "MSE is: 226218733.41989654\n"
     ]
    }
   ],
   "source": [
    "cv_score = (cross_val_score(gb_reg, X_prepared, y_prepared, cv = 5)).mean()\n",
    "mse = mean_squared_error(gb_reg.predict(X_prepared), y_prepared)\n",
    "\n",
    "print('CV score is:', cv_score)\n",
    "print('MSE is:', mse)"
   ]
  },
  {
   "cell_type": "code",
   "execution_count": 290,
   "metadata": {
    "scrolled": true
   },
   "outputs": [
    {
     "data": {
      "text/html": [
       "<div>\n",
       "<style scoped>\n",
       "    .dataframe tbody tr th:only-of-type {\n",
       "        vertical-align: middle;\n",
       "    }\n",
       "\n",
       "    .dataframe tbody tr th {\n",
       "        vertical-align: top;\n",
       "    }\n",
       "\n",
       "    .dataframe thead th {\n",
       "        text-align: right;\n",
       "    }\n",
       "</style>\n",
       "<table border=\"1\" class=\"dataframe\">\n",
       "  <thead>\n",
       "    <tr style=\"text-align: right;\">\n",
       "      <th></th>\n",
       "      <th>Name</th>\n",
       "      <th>Importance</th>\n",
       "    </tr>\n",
       "  </thead>\n",
       "  <tbody>\n",
       "    <tr>\n",
       "      <th>0</th>\n",
       "      <td>OverallQual</td>\n",
       "      <td>0.493910</td>\n",
       "    </tr>\n",
       "    <tr>\n",
       "      <th>3</th>\n",
       "      <td>GrLivArea</td>\n",
       "      <td>0.115254</td>\n",
       "    </tr>\n",
       "    <tr>\n",
       "      <th>9</th>\n",
       "      <td>TotalBsmtSF</td>\n",
       "      <td>0.072411</td>\n",
       "    </tr>\n",
       "    <tr>\n",
       "      <th>1</th>\n",
       "      <td>ExterQual</td>\n",
       "      <td>0.044482</td>\n",
       "    </tr>\n",
       "    <tr>\n",
       "      <th>12</th>\n",
       "      <td>BsmtFinSF1</td>\n",
       "      <td>0.034447</td>\n",
       "    </tr>\n",
       "  </tbody>\n",
       "</table>\n",
       "</div>"
      ],
      "text/plain": [
       "           Name  Importance\n",
       "0   OverallQual    0.493910\n",
       "3     GrLivArea    0.115254\n",
       "9   TotalBsmtSF    0.072411\n",
       "1     ExterQual    0.044482\n",
       "12   BsmtFinSF1    0.034447"
      ]
     },
     "execution_count": 290,
     "metadata": {},
     "output_type": "execute_result"
    }
   ],
   "source": [
    "# Check feature importances\n",
    "feature_importance = pd.DataFrame({'Name': features_keep, 'Importance': gb_reg.feature_importances_}).sort_values('Importance'\n",
    "                                                                                    ,ascending = False)\n",
    "feature_importance.head()"
   ]
  },
  {
   "cell_type": "markdown",
   "metadata": {},
   "source": [
    "# Model Selection"
   ]
  },
  {
   "cell_type": "code",
   "execution_count": 208,
   "metadata": {},
   "outputs": [],
   "source": [
    "from sklearn import linear_model\n",
    "from sklearn import tree\n",
    "from sklearn import ensemble\n",
    "from sklearn.kernel_ridge import KernelRidge\n",
    "\n",
    "def neg_rmse(y_true, y_pred):\n",
    "    return (-1) * np.sqrt(np.mean((y_true - y_pred) ** 2))\n"
   ]
  },
  {
   "cell_type": "code",
   "execution_count": 209,
   "metadata": {},
   "outputs": [],
   "source": [
    "MLA = [\n",
    "    #Linear Model\n",
    "    linear_model.Lasso(),\n",
    "    linear_model.Ridge(),\n",
    "    linear_model.ElasticNet(),\n",
    "\n",
    "    #Kernel Ridge\n",
    "    KernelRidge(),\n",
    "    \n",
    "    #Tree\n",
    "    tree.DecisionTreeRegressor(),\n",
    "    \n",
    "    #Ensemble\n",
    "    ensemble.RandomForestRegressor(),\n",
    "    ensemble.GradientBoostingRegressor(),\n",
    "    \n",
    "    #XGB\n",
    "    xgboost.XGBRegressor()\n",
    "]\n",
    "scorer = make_scorer(neg_rmse)\n",
    "df_columns = ['Name', 'Parameters', 'CV score mean']\n",
    "df = pd.DataFrame(columns = df_columns)\n",
    "from sklearn.model_selection import cross_validate\n",
    "for i in np.arange(len(MLA)):\n",
    "    model = MLA[i]\n",
    "    model_name = model.__class__.__name__\n",
    "    model_parameters = str(model.get_params())\n",
    "    cv_results = (cross_val_score(model, X_prepared, y_prepared, cv = 5, scoring=scorer)).mean()\n",
    "    df.loc[i,:] = [model_name, model_parameters, cv_results]\n",
    "    "
   ]
  },
  {
   "cell_type": "code",
   "execution_count": 210,
   "metadata": {
    "scrolled": true
   },
   "outputs": [
    {
     "data": {
      "text/html": [
       "<div>\n",
       "<style scoped>\n",
       "    .dataframe tbody tr th:only-of-type {\n",
       "        vertical-align: middle;\n",
       "    }\n",
       "\n",
       "    .dataframe tbody tr th {\n",
       "        vertical-align: top;\n",
       "    }\n",
       "\n",
       "    .dataframe thead th {\n",
       "        text-align: right;\n",
       "    }\n",
       "</style>\n",
       "<table border=\"1\" class=\"dataframe\">\n",
       "  <thead>\n",
       "    <tr style=\"text-align: right;\">\n",
       "      <th></th>\n",
       "      <th>Name</th>\n",
       "      <th>Parameters</th>\n",
       "      <th>CV score mean</th>\n",
       "    </tr>\n",
       "  </thead>\n",
       "  <tbody>\n",
       "    <tr>\n",
       "      <th>6</th>\n",
       "      <td>GradientBoostingRegressor</td>\n",
       "      <td>{'alpha': 0.9, 'ccp_alpha': 0.0, 'criterion': ...</td>\n",
       "      <td>-27059.5</td>\n",
       "    </tr>\n",
       "    <tr>\n",
       "      <th>7</th>\n",
       "      <td>XGBRegressor</td>\n",
       "      <td>{'objective': 'reg:squarederror', 'base_score'...</td>\n",
       "      <td>-28203.5</td>\n",
       "    </tr>\n",
       "    <tr>\n",
       "      <th>5</th>\n",
       "      <td>RandomForestRegressor</td>\n",
       "      <td>{'bootstrap': True, 'ccp_alpha': 0.0, 'criteri...</td>\n",
       "      <td>-28580.6</td>\n",
       "    </tr>\n",
       "    <tr>\n",
       "      <th>3</th>\n",
       "      <td>KernelRidge</td>\n",
       "      <td>{'alpha': 1, 'coef0': 1, 'degree': 3, 'gamma':...</td>\n",
       "      <td>-29652.9</td>\n",
       "    </tr>\n",
       "    <tr>\n",
       "      <th>1</th>\n",
       "      <td>Ridge</td>\n",
       "      <td>{'alpha': 1.0, 'copy_X': True, 'fit_intercept'...</td>\n",
       "      <td>-29782.6</td>\n",
       "    </tr>\n",
       "    <tr>\n",
       "      <th>0</th>\n",
       "      <td>Lasso</td>\n",
       "      <td>{'alpha': 1.0, 'copy_X': True, 'fit_intercept'...</td>\n",
       "      <td>-29973.1</td>\n",
       "    </tr>\n",
       "    <tr>\n",
       "      <th>2</th>\n",
       "      <td>ElasticNet</td>\n",
       "      <td>{'alpha': 1.0, 'copy_X': True, 'fit_intercept'...</td>\n",
       "      <td>-31841.1</td>\n",
       "    </tr>\n",
       "    <tr>\n",
       "      <th>4</th>\n",
       "      <td>DecisionTreeRegressor</td>\n",
       "      <td>{'ccp_alpha': 0.0, 'criterion': 'mse', 'max_de...</td>\n",
       "      <td>-38537.1</td>\n",
       "    </tr>\n",
       "  </tbody>\n",
       "</table>\n",
       "</div>"
      ],
      "text/plain": [
       "                        Name  \\\n",
       "6  GradientBoostingRegressor   \n",
       "7               XGBRegressor   \n",
       "5      RandomForestRegressor   \n",
       "3                KernelRidge   \n",
       "1                      Ridge   \n",
       "0                      Lasso   \n",
       "2                 ElasticNet   \n",
       "4      DecisionTreeRegressor   \n",
       "\n",
       "                                          Parameters CV score mean  \n",
       "6  {'alpha': 0.9, 'ccp_alpha': 0.0, 'criterion': ...      -27059.5  \n",
       "7  {'objective': 'reg:squarederror', 'base_score'...      -28203.5  \n",
       "5  {'bootstrap': True, 'ccp_alpha': 0.0, 'criteri...      -28580.6  \n",
       "3  {'alpha': 1, 'coef0': 1, 'degree': 3, 'gamma':...      -29652.9  \n",
       "1  {'alpha': 1.0, 'copy_X': True, 'fit_intercept'...      -29782.6  \n",
       "0  {'alpha': 1.0, 'copy_X': True, 'fit_intercept'...      -29973.1  \n",
       "2  {'alpha': 1.0, 'copy_X': True, 'fit_intercept'...      -31841.1  \n",
       "4  {'ccp_alpha': 0.0, 'criterion': 'mse', 'max_de...      -38537.1  "
      ]
     },
     "execution_count": 210,
     "metadata": {},
     "output_type": "execute_result"
    }
   ],
   "source": [
    "df.sort_values('CV score mean', ascending = False)\n"
   ]
  },
  {
   "cell_type": "markdown",
   "metadata": {},
   "source": [
    "# Search for hyperparameters"
   ]
  },
  {
   "cell_type": "markdown",
   "metadata": {},
   "source": [
    "## XGB"
   ]
  },
  {
   "cell_type": "code",
   "execution_count": 228,
   "metadata": {},
   "outputs": [
    {
     "data": {
      "text/plain": [
       "{'subsample': 1}"
      ]
     },
     "execution_count": 228,
     "metadata": {},
     "output_type": "execute_result"
    }
   ],
   "source": [
    "#Search for parameters\n",
    "xgb_reg = xgboost.XGBRegressor(\n",
    "    eta = 0.2,\n",
    "    max_depth = 4\n",
    ")\n",
    "parameters = {\n",
    "    'subsample':[0.5, 0.8, 1]\n",
    "}\n",
    "cv = GridSearchCV(estimator=xgb_reg, param_grid=parameters, scoring='r2', n_jobs = -1, cv = 5)\n",
    "\n",
    "cv.fit(X_prepared, y_prepared)\n",
    "\n",
    "cv.best_params_"
   ]
  },
  {
   "cell_type": "code",
   "execution_count": 239,
   "metadata": {},
   "outputs": [
    {
     "data": {
      "text/plain": [
       "{'criterion': 'mse'}"
      ]
     },
     "execution_count": 239,
     "metadata": {},
     "output_type": "execute_result"
    }
   ],
   "source": [
    "#Search for parameters\n",
    "gb_reg = ensemble.GradientBoostingRegressor(\n",
    "    n_estimators=800,\n",
    "    learning_rate=0.05,\n",
    "    subsample=0.6,\n",
    "    criterion = 'mse'\n",
    ")\n",
    "parameters = {\n",
    "    'criterion':['friedman_mse', 'mse', 'mae']\n",
    "}\n",
    "cv = GridSearchCV(estimator=gb_reg, param_grid=parameters, scoring='r2', n_jobs = -1, cv = 5)\n",
    "\n",
    "cv.fit(X_prepared, y_prepared)\n",
    "\n",
    "cv.best_params_"
   ]
  },
  {
   "cell_type": "code",
   "execution_count": 253,
   "metadata": {},
   "outputs": [
    {
     "data": {
      "text/plain": [
       "{'max_features': 'log2'}"
      ]
     },
     "execution_count": 253,
     "metadata": {},
     "output_type": "execute_result"
    }
   ],
   "source": [
    "#Search for parameters\n",
    "rf_reg = ensemble.RandomForestRegressor(\n",
    "    n_estimators=400,\n",
    "    ccp_alpha=0.01,\n",
    "    max_features='log2'\n",
    ")\n",
    "parameters = {\n",
    "    'max_features':['auto', 'sqrt', 'log2']\n",
    "}\n",
    "cv = GridSearchCV(estimator=gb_reg, param_grid=parameters, scoring='r2', n_jobs = -1, cv = 5)\n",
    "\n",
    "cv.fit(X_prepared, y_prepared)\n",
    "\n",
    "cv.best_params_"
   ]
  },
  {
   "cell_type": "markdown",
   "metadata": {},
   "source": [
    "# Train the model"
   ]
  },
  {
   "cell_type": "code",
   "execution_count": 291,
   "metadata": {},
   "outputs": [],
   "source": [
    "xgb_reg = xgboost.XGBRegressor(\n",
    "    eta = 0.2,\n",
    "    max_depth = 4\n",
    ")\n",
    "gb_reg = ensemble.GradientBoostingRegressor(\n",
    "    n_estimators=800,\n",
    "    learning_rate=0.05,\n",
    "    subsample=0.6,\n",
    "    criterion = 'mse'\n",
    ")\n",
    "rf_reg = ensemble.RandomForestRegressor(\n",
    "    n_estimators=400,\n",
    "    ccp_alpha=0.01,\n",
    "    max_features='log2'\n",
    ")\n",
    "\n",
    "models = [xgb_reg, gb_reg, rf_reg]\n",
    "for i in models:\n",
    "    i.fit(X_prepared, y_prepared)"
   ]
  },
  {
   "cell_type": "markdown",
   "metadata": {},
   "source": [
    "# Prediction"
   ]
  },
  {
   "cell_type": "code",
   "execution_count": 292,
   "metadata": {},
   "outputs": [],
   "source": [
    "test = pd.read_csv('test.csv')\n"
   ]
  },
  {
   "cell_type": "code",
   "execution_count": 293,
   "metadata": {},
   "outputs": [],
   "source": [
    "def prepare_test(X):\n",
    "    #########################选择合适的features#########################\n",
    "    \n",
    "    cols = [\n",
    "             'OverallQual','ExterQual','CentralAir','1stFlrSF','GrLivArea','BsmtFullBath','BsmtHalfBath',\n",
    "             'KitchenQual','TotRmsAbvGrd','Fireplaces','PavedDrive','TotalBsmtSF','GarageArea','YearRemodAdd',\n",
    "             'YearBuilt','BsmtFinSF1','2ndFlrSF','FullBath','HalfBath','BedroomAbvGr','KitchenAbvGr', 'LotArea',\n",
    "             'PoolArea','MSZoning','Neighborhood','Exterior1st','Exterior2nd','Foundation','SaleType', 'WoodDeckSF',\n",
    "             'OpenPorchSF','LotFrontage','MSSubClass', 'LotShape','LandContour','LandSlope','Condition1','BldgType',\n",
    "             'OverallCond','RoofStyle', 'ExterCond', 'BsmtQual','BsmtCond', 'BsmtFinSF2', 'BsmtUnfSF','HeatingQC',\n",
    "             'Electrical', 'LowQualFinSF', 'Functional','GarageType', 'GarageFinish','GarageCond','GarageQual',\n",
    "             'MasVnrArea'\n",
    "    ]\n",
    "    X_prepared = X[cols] \n",
    "    \n",
    "    #########################处理一下Missingness############################\n",
    "    \n",
    "    X_prepared['BsmtQual'] = X_prepared['BsmtQual'].fillna('No_Basement')\n",
    "    X_prepared['BsmtCond'] = X_prepared['BsmtCond'].fillna('No_Basement')\n",
    "    \n",
    "    # Categorical的用mode， 根据 Neighborhood\n",
    "    # Numerical的用median， 根据 Neighborhood\n",
    "    X_prepared['GarageFinish'] = X.groupby(['Neighborhood'])['GarageFinish'].apply(lambda x:x.fillna(x.value_counts().index[0]))\n",
    "    X_prepared['GarageCond'] = X.groupby(['Neighborhood'])['GarageCond'].apply(lambda x:x.fillna(x.value_counts().index[0]))\n",
    "    X_prepared['GarageQual'] = X.groupby(['Neighborhood'])['GarageQual'].apply(lambda x:x.fillna(x.value_counts().index[0]))\n",
    "    \n",
    "    mode_col = ['BsmtFullBath', 'BsmtHalfBath', 'KitchenQual', 'TotalBsmtSF']\n",
    "    median_col = ['GarageArea', 'BsmtFinSF1', 'LotFrontage', 'MasVnrArea', 'BsmtFinSF2', 'BsmtUnfSF' \n",
    "                     ]\n",
    "                     #'GarageFinish', 'MasVnrArea']\n",
    "\n",
    "    for i in mode_col:\n",
    "        X_prepared[i] = X.groupby(['Neighborhood'])[i].apply(lambda x:x.fillna(x.value_counts().index[0]))\n",
    "    for k in median_col:\n",
    "        X_prepared[k] = X.groupby(['Neighborhood'])[i].apply(lambda x: x.fillna(x.median()))\n",
    "    \n",
    "    #########################处理一下Column############################\n",
    "    \n",
    "    ########Categorical######\n",
    "    \n",
    "    Qual_dict = {'Ex':3, 'Gd': 2, 'TA': 1, 'Fa': 0}\n",
    "    Qual_dict2 = {'Ex':4, 'Gd': 3, 'TA': 2, 'Fa': 1, 'Po':0}\n",
    "    Qual_dict3 = {'Ex':4, 'Gd': 3, 'TA': 2, 'Fa': 1, 'No_Basement':0}\n",
    "    Qual_dict4 = {'Gd':4, 'TA': 3, 'Fa': 2, 'Po': 1, 'No_Basement':0}\n",
    "    Qual_dict5 = {'Fin':2, 'RFn':1, 'Unf':0}\n",
    "    \n",
    "    # GarageCond\n",
    "    X_prepared['GarageCond'] = X_prepared['GarageCond'].replace(Qual_dict2)\n",
    "    # GarageQual\n",
    "    X_prepared['GarageQual'] = X_prepared['GarageQual'].replace(Qual_dict2)\n",
    "    # GarageFinish\n",
    "    X_prepared['GarageFinish'] = X_prepared['GarageFinish'].replace(Qual_dict5)\n",
    "    # HeatingQC\n",
    "    X_prepared['HeatingQC'] = X_prepared['HeatingQC'].replace(Qual_dict2)\n",
    "    # BsmtCond\n",
    "    X_prepared['BsmtCond'] = X_prepared['BsmtCond'].replace(Qual_dict4)\n",
    "    # BsmtQual\n",
    "    X_prepared['BsmtQual'] = X_prepared['BsmtQual'].replace(Qual_dict3)\n",
    "    # ExterCond\n",
    "    X_prepared['ExterCond'] = X_prepared['ExterCond'].replace(Qual_dict2)\n",
    "    # ExterQual\n",
    "    X_prepared['ExterQual'] = X_prepared['ExterQual'].replace(Qual_dict)\n",
    "    # KitchenQual\n",
    "    X_prepared['KitchenQual'] = X_prepared['KitchenQual'].replace(Qual_dict)\n",
    "    # LandSlope\n",
    "    X_prepared['LandSlope'] = X_prepared['LandSlope'].replace({'Sev':2, 'Mod':1, 'Gtl':0})\n",
    "    # ONE HOT\n",
    "    onehot_col = ['MSZoning', 'Neighborhood','Exterior1st','Exterior2nd','Foundation','CentralAir',\n",
    "                'PavedDrive', 'SaleType','MSSubClass', 'LotShape', 'LandContour','Condition1','BldgType',\n",
    "                'RoofStyle','Electrical', 'Functional','GarageType'\n",
    "                    ]\n",
    "    X_prepared = pd.get_dummies(X_prepared, columns = onehot_col)\n",
    "    \n",
    "    ########Numerical########\n",
    "    \n",
    "    high_skew_col = ['LotArea', 'WoodDeckSF', '1stFlrSF', 'TotalBsmtSF', 'OpenPorchSF', 'LotFrontage', \n",
    "                     'MasVnrArea', 'BsmtFinSF2']\n",
    "    for col in high_skew_col:\n",
    "        X_prepared[col] = np.log1p(X_prepared[col])\n",
    "        \n",
    "    #########################新feature################################\n",
    "    \n",
    "    X['has_2ndsf'] = (X['2ndFlrSF'] != 0).astype(np.int)\n",
    "    X_prepared['Bath'] = X_prepared['FullBath'] + 0.5 * X_prepared['HalfBath']\n",
    "    X_prepared['has_pool'] = (X_prepared['PoolArea'] == 0).astype(np.int)\n",
    "    X_prepared['has_remodel'] = (X_prepared['YearRemodAdd'] != X_prepared['YearBuilt']).astype(np.int)\n",
    "    X_prepared['BsmtBath'] = X_prepared['BsmtFullBath'] + 0.5 * X_prepared['BsmtHalfBath']\n",
    "    X_prepared['Overall'] = X_prepared['OverallCond'] + X_prepared['OverallQual']\n",
    "    X_prepared['has_MasVnr'] = (X_prepared['MasVnrArea'] == 0).astype(np.int)\n",
    "    X_prepared['Exter'] = X_prepared['ExterCond'] + X_prepared['ExterQual']\n",
    "    X_prepared['Bsmt'] = X_prepared['BsmtCond'] + X_prepared['BsmtQual']\n",
    "    X_prepared['has_BsmtFinSF2'] = (X_prepared['BsmtFinSF2'] != 0).astype(np.int)\n",
    "    X_prepared['has_lowqualitysf'] = (X_prepared['LowQualFinSF'] != 0).astype(np.int)\n",
    "    X_prepared['Garage'] = X_prepared['GarageQual'] + X_prepared['GarageCond']\n",
    "    \n",
    "    #########################不要的column扔了############################\n",
    "    \n",
    "    to_drop = ['YearBuilt', 'PoolArea', 'LowQualFinSF']\n",
    "    X_prepared.drop(to_drop, axis = 1, inplace = True)\n",
    "    \n",
    "    #########################test中没有的类型填一下############################\n",
    "    \n",
    "    miss_col = [\n",
    "        'Exterior1st_ImStucc', 'Exterior1st_Stone', 'Exterior2nd_Other'\n",
    "    ]\n",
    "    for c in miss_col:\n",
    "        X_prepared[c] = 0\n",
    "    return X_prepared"
   ]
  },
  {
   "cell_type": "code",
   "execution_count": 294,
   "metadata": {},
   "outputs": [],
   "source": [
    "test_prepared = prepare_test(test)\n",
    "test_prepared = selector.transform(test_prepared)"
   ]
  },
  {
   "cell_type": "code",
   "execution_count": 250,
   "metadata": {},
   "outputs": [],
   "source": [
    "# for i in test_prepared.columns:\n",
    "#     if test_prepared[i].isnull().sum() > 0:\n",
    "#         print(i)"
   ]
  },
  {
   "cell_type": "code",
   "execution_count": 296,
   "metadata": {},
   "outputs": [
    {
     "data": {
      "text/plain": [
       "array([164234.48416268, 192826.44289359, 170815.69712214, ...,\n",
       "       198110.31218678, 142672.90709447, 218693.07599979])"
      ]
     },
     "execution_count": 296,
     "metadata": {},
     "output_type": "execute_result"
    }
   ],
   "source": [
    "gb_reg.predict(test_prepared)"
   ]
  },
  {
   "cell_type": "code",
   "execution_count": 297,
   "metadata": {},
   "outputs": [
    {
     "data": {
      "text/plain": [
       "array([126746.3675, 161073.1875, 163039.345 , ..., 164785.0925,\n",
       "       136381.8875, 183409.0825])"
      ]
     },
     "execution_count": 297,
     "metadata": {},
     "output_type": "execute_result"
    }
   ],
   "source": [
    "rf_reg.predict(test_prepared)"
   ]
  },
  {
   "cell_type": "code",
   "execution_count": 298,
   "metadata": {},
   "outputs": [
    {
     "data": {
      "text/plain": [
       "array([126424.984, 144933.9  , 155037.48 , ..., 172967.34 , 142787.86 ,\n",
       "       195923.6  ], dtype=float32)"
      ]
     },
     "execution_count": 298,
     "metadata": {},
     "output_type": "execute_result"
    }
   ],
   "source": [
    "xgb_reg.predict(test_prepared)"
   ]
  },
  {
   "cell_type": "code",
   "execution_count": 299,
   "metadata": {},
   "outputs": [],
   "source": [
    "predictions = xgb_reg.predict(test_prepared)\n",
    "result = pd.DataFrame({'Id': test['Id'], 'SalePrice': predictions})\n"
   ]
  },
  {
   "cell_type": "code",
   "execution_count": 300,
   "metadata": {},
   "outputs": [
    {
     "data": {
      "text/html": [
       "<div>\n",
       "<style scoped>\n",
       "    .dataframe tbody tr th:only-of-type {\n",
       "        vertical-align: middle;\n",
       "    }\n",
       "\n",
       "    .dataframe tbody tr th {\n",
       "        vertical-align: top;\n",
       "    }\n",
       "\n",
       "    .dataframe thead th {\n",
       "        text-align: right;\n",
       "    }\n",
       "</style>\n",
       "<table border=\"1\" class=\"dataframe\">\n",
       "  <thead>\n",
       "    <tr style=\"text-align: right;\">\n",
       "      <th></th>\n",
       "      <th>Id</th>\n",
       "      <th>SalePrice</th>\n",
       "    </tr>\n",
       "  </thead>\n",
       "  <tbody>\n",
       "    <tr>\n",
       "      <th>0</th>\n",
       "      <td>1461</td>\n",
       "      <td>126424.984375</td>\n",
       "    </tr>\n",
       "    <tr>\n",
       "      <th>1</th>\n",
       "      <td>1462</td>\n",
       "      <td>144933.906250</td>\n",
       "    </tr>\n",
       "    <tr>\n",
       "      <th>2</th>\n",
       "      <td>1463</td>\n",
       "      <td>155037.484375</td>\n",
       "    </tr>\n",
       "    <tr>\n",
       "      <th>3</th>\n",
       "      <td>1464</td>\n",
       "      <td>162054.046875</td>\n",
       "    </tr>\n",
       "    <tr>\n",
       "      <th>4</th>\n",
       "      <td>1465</td>\n",
       "      <td>227006.156250</td>\n",
       "    </tr>\n",
       "  </tbody>\n",
       "</table>\n",
       "</div>"
      ],
      "text/plain": [
       "     Id      SalePrice\n",
       "0  1461  126424.984375\n",
       "1  1462  144933.906250\n",
       "2  1463  155037.484375\n",
       "3  1464  162054.046875\n",
       "4  1465  227006.156250"
      ]
     },
     "execution_count": 300,
     "metadata": {},
     "output_type": "execute_result"
    }
   ],
   "source": [
    "result.head()\n"
   ]
  },
  {
   "cell_type": "code",
   "execution_count": 205,
   "metadata": {},
   "outputs": [],
   "source": [
    "# result.to_csv('result.csv',index = False)\n"
   ]
  },
  {
   "cell_type": "code",
   "execution_count": 302,
   "metadata": {
    "scrolled": true
   },
   "outputs": [],
   "source": [
    "# set(X_prepared.columns) - set(test_prepared.columns)"
   ]
  },
  {
   "cell_type": "code",
   "execution_count": null,
   "metadata": {},
   "outputs": [],
   "source": []
  }
 ],
 "metadata": {
  "kernelspec": {
   "display_name": "Python 3",
   "language": "python",
   "name": "python3"
  },
  "language_info": {
   "codemirror_mode": {
    "name": "ipython",
    "version": 3
   },
   "file_extension": ".py",
   "mimetype": "text/x-python",
   "name": "python",
   "nbconvert_exporter": "python",
   "pygments_lexer": "ipython3",
   "version": "3.8.5"
  }
 },
 "nbformat": 4,
 "nbformat_minor": 4
}
